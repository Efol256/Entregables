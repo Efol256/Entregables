{
 "cells": [
  {
   "cell_type": "markdown",
   "id": "186039a5",
   "metadata": {},
   "source": [
    "# Michelangelo's\n",
    "\n",
    "Su amigo Chocolove McDonell le comenta que inauguró un nuevo restaurante llamado _Michelangelo's_, el cual se especializa en comida italiana. Como dueño del negocio, Chocolove quiere evaluar la rentabilidad de su negocio, pero no es muy bueno sacando cuentas, razón por la que acude a usted por ayuda. \n",
    "\n",
    "El menú del restaurante es el siguiente:\n",
    "> - Carpaccio... `$ 31.500`\n",
    "> - Polenta... `$ 31.500`\n",
    "> - Panna Cotta... `$ 32.000` \n",
    "> - Macchiato... `$ 12.500` \n",
    "> - Latte... `$ 18.000`\n",
    "> - Cappuccino... `$ 19.500` \n",
    "> - Espresso... `$ 21.500` \n",
    "> - Lasagna... `$ 29.000` \n",
    "> - Risotto... `$ 35.500` \n",
    "> - Gnocchi... `$ 56.500` \n",
    "> - Ravioli... `$ 63.500` \n",
    "\n",
    "Chocolove lleva anotaciones de las ventas realizadas durante la primera semana en un pequeño cuaderno, indicando la fecha y los platos servidos. Le ha compartido la siguientes imágenes:\n",
    "\n",
    "<img src=\"ventas_p1.jpg\" style=\"max-height:400px\">\n",
    "<img src=\"ventas_p2.jpg\" style=\"max-height:400px\">\n",
    "\n",
    "**Tip**: Descarga las imágenes de la carpeta del repositorio para observar el texto con mayor facilidad."
   ]
  },
  {
   "cell_type": "markdown",
   "id": "29ad8ea4",
   "metadata": {},
   "source": [
    "# Menú"
   ]
  },
  {
   "cell_type": "markdown",
   "id": "2797b589",
   "metadata": {},
   "source": [
    "Crea una lista llamada `menu` que contenga los elementos del menú de Michelangelo's."
   ]
  },
  {
   "cell_type": "code",
   "execution_count": 2,
   "id": "3cb128e4",
   "metadata": {},
   "outputs": [],
   "source": [
    "# Se crea la lista de referencia\n",
    "menu = ['Carpaccio', 'Polenta', 'Panna Cotta', 'Macchiato', 'Latte', 'Cappuccino', 'Espresso', 'Lasagna','Risotto', 'Gnocchi', 'Ravioli']"
   ]
  },
  {
   "cell_type": "markdown",
   "id": "9c242dcf",
   "metadata": {},
   "source": [
    "Crea una lista llamada `prices` que contenga los precios de los elementos del menú de Michelangelo's. El orden de los precios debe corresponder con el orden de los platos en la lista `menu`."
   ]
  },
  {
   "cell_type": "code",
   "execution_count": 3,
   "id": "2c648e26",
   "metadata": {},
   "outputs": [],
   "source": [
    "# Se crea la lista del precio de los elementos del menú.\n",
    "prices = [31500, 31500, 32000, 12500, 18000, 19500, 21500, 29000, 35500, 56500, 63500]"
   ]
  },
  {
   "cell_type": "markdown",
   "id": "db730bc8",
   "metadata": {},
   "source": [
    "Crea una variable llamada `avg_prc` que almacene el valor del precio promedio de los productos vendidos en Michelangelo's.\n",
    "\n",
    "**Tip**: utiliza la lista `prices` y ciclos para calcular este valor. "
   ]
  },
  {
   "cell_type": "code",
   "execution_count": 10,
   "id": "8d1e899a",
   "metadata": {},
   "outputs": [
    {
     "name": "stdout",
     "output_type": "stream",
     "text": [
      "La suma total de lo precios es de: 351000 COP\n",
      "El precio promedio del menu es: 31909.09 COP\n"
     ]
    }
   ],
   "source": [
    "# Se inicializan las variables auxiliares\n",
    "avg_prc = 0\n",
    "aux = 0\n",
    "\n",
    "# Se crea un for para realizar la suma total de los precios de los platos.\n",
    "## El for itera en la lista de precios (ls prices) y va añadiendo uno por uno el valor del plato a una variable global.\n",
    "for precio in prices:\n",
    "    aux = aux + precio\n",
    "print(f'La suma total de lo precios es de: {aux} COP')\n",
    "\n",
    "# Se obtiene el número de elementos del menú.\n",
    "num_elements = len(prices)\n",
    "\n",
    "# Se realizar el promedio de los precios del menú.\n",
    "avg_prc = aux/num_elements\n",
    "\n",
    "print(f'El precio promedio del menu es: {round(avg_prc, 2)} COP')"
   ]
  },
  {
   "cell_type": "markdown",
   "id": "08393c0c",
   "metadata": {},
   "source": [
    "## Ventas"
   ]
  },
  {
   "cell_type": "markdown",
   "id": "97c049c0",
   "metadata": {},
   "source": [
    "Crea una lista para cada día de la semana que contenga los productos vendidos por Michelangelo's. Nombra las variables de la siguiente forma:\n",
    "- `monday`: lista con las ventas del lunes, 16 de enero de 2023\n",
    "- `tuesday`: lista con las ventas del martes, 17 de enero de 2023\n",
    "- `wednesday`: lista con las ventas del miércoles, 18 de enero de 2023\n",
    "- `thursday`: lista con las ventas del jueves, 19 de enero de 2023\n",
    "- `friday`: lista con las ventas del viernes, 20 de enero de 2023\n",
    "- `saturday`: lista con las ventas del sábado, 21 de enero de 2023\n",
    "- `sunday`: lista con las ventas del domingo, 22 de enero de 2023"
   ]
  },
  {
   "cell_type": "code",
   "execution_count": 11,
   "id": "f2b38aa6",
   "metadata": {},
   "outputs": [],
   "source": [
    "# Se crean las listas con las ventas realizadas cada día.\n",
    "monday = ['Lasagna', 'Polenta', 'Gnocchi', 'Polenta', 'Ravioli', 'Gnocchi', 'Cappuccino', 'Risotto']\n",
    "tuesday = ['Risotto', 'Ravioli', 'Risotto', 'Lasagna', 'Carpaccio', 'Espresso', 'Panna Cotta', 'Gnocchi', 'Gnocchi']\n",
    "wednesday = ['Cappuccino', 'Lasagna', 'Cappuccino', 'Carpaccio', 'Ravioli', 'Polenta', 'Polenta', 'Carpaccio', 'Espresso', 'Lasagna',  'Risotto', 'Carpaccio']\n",
    "thursday = ['Latte', 'Risotto', 'Risotto', 'Carpaccio', 'Gnocchi', 'Polenta', 'Espresso', 'Latte', 'Ravioli']\n",
    "friday = ['Espresso', 'Gnocchi', 'Gnocchi', 'Cappuccino', 'Gnocchi', 'Panna Cotta']\n",
    "saturday = ['Risotto', 'Carpaccio', 'Macchiato', 'Cappuccino', 'Risotto', 'Polenta', 'Panna Cotta', 'Ravioli', 'Macchiato', 'Panna Cotta', 'Latte', 'Latte', 'Gnocchi']\n",
    "sunday = ['Polenta', 'Polenta', 'Espresso', 'Ravioli', 'Risotto', 'Macchiato']"
   ]
  },
  {
   "cell_type": "markdown",
   "id": "0727bc22",
   "metadata": {},
   "source": [
    "Calcula el valor total de las ventas para cada día de la semana. Almacena el valor de las ventas en las siguientes variables:\n",
    "- `total_monday`: variable con el valor total de las ventas del día lunes\n",
    "- `total_tuesday`: variable con el valor total de las ventas del día lunes\n",
    "- `total_wednesday`: variable con el valor total de las ventas del día lunes\n",
    "- `total_thursday`: variable con el valor total de las ventas del día lunes\n",
    "- `total_friday`: variable con el valor total de las ventas del día lunes\n",
    "- `total_saturday`: variable con el valor total de las ventas del día lunes\n",
    "- `total_sunday`: variable con el valor total de las ventas del día lunes\n",
    "\n",
    "**Tip**: utiliza ciclos y las listas de los días de la semana. También puedes usar el método `.index()` para obtener el índice de un elemento en una lista."
   ]
  },
  {
   "cell_type": "code",
   "execution_count": 15,
   "id": "0d6e0781",
   "metadata": {},
   "outputs": [
    {
     "name": "stdout",
     "output_type": "stream",
     "text": [
      "El monto total del día Lunes es de: 323500 COP\n",
      "El monto total del día Martes es de: 361500 COP\n",
      "El monto total del día Miércoles es de: 375000 COP\n",
      "El monto total del día Jueves es de: 311500 COP\n",
      "El monto total del día Viernes es de: 242500 COP\n",
      "El monto total del día Miércoles es de: 398500 COP\n",
      "El monto total del día Domingo es de: 196000 COP\n"
     ]
    }
   ],
   "source": [
    "#Lista días de la semana\n",
    "dias = [monday, tuesday, wednesday, thursday, friday, saturday, sunday] \n",
    "\n",
    "#Inicilización variables auxiliares\n",
    "index = 0 \n",
    "total_monday, total_tuesday, total_wednesday, total_thursday, total_friday, total_saturday, total_sunday = [0 for i in range(7)]\n",
    "aux2 = 0 \n",
    "\n",
    "#Ciclos para calcular la venta total del día\n",
    "## El primer for itera entre los días de la semana (ls dias) \n",
    "## y mediante condicionales asigna el resultado del segundo for a la variable correspondiente dada en el enunciado del problema(total_dia.\n",
    "## El segundo for itera entre los elementos de la lista del día correspondiente par obtener su posición el la lista de referencia (ls menu)\n",
    "## para  a continuación buscar dicha posición en la lista de precios (ls prices), obtener el precio correspondiente y sumarlos\n",
    "## y obtener el valor total de la venta dicho día.\n",
    "\n",
    "for dia in dias:\n",
    "    aux1 = 0 \n",
    "    for i in dia:\n",
    "        index = menu.index(i)\n",
    "        precio = prices[index]\n",
    "        aux1 = aux1 + precio\n",
    "        aux2 = aux2 + precio\n",
    "    if dia == monday:\n",
    "        total_monday = aux1\n",
    "        print(f'El monto total del día Lunes es de: {total_monday} COP' )\n",
    "    elif dia == tuesday:\n",
    "        total_tuesday = aux1\n",
    "        print(f'El monto total del día Martes es de: {total_tuesday} COP' )\n",
    "    elif dia == wednesday:\n",
    "        total_wednesday = aux1\n",
    "        print(f'El monto total del día Miércoles es de: {total_wednesday} COP' )\n",
    "    elif dia == thursday:\n",
    "        total_thursday = aux1\n",
    "        print(f'El monto total del día Jueves es de: {total_thursday} COP' )\n",
    "    elif dia == friday:\n",
    "        total_friday = aux1\n",
    "        print(f'El monto total del día Viernes es de: {total_friday} COP' )\n",
    "    elif dia == saturday:\n",
    "        total_saturday = aux1\n",
    "        print(f'El monto total del día Miércoles es de: {total_saturday} COP' )\n",
    "    else:\n",
    "        total_sunday = aux1\n",
    "        print(f'El monto total del día Domingo es de: {total_sunday} COP' )\n",
    "\n",
    "#Venta total de la semana\n",
    "total_semana = aux2"
   ]
  },
  {
   "cell_type": "markdown",
   "id": "3cc13c70",
   "metadata": {},
   "source": [
    "¿Cuál es valor total de las ventas de Michelangelo's durante su primera semana?"
   ]
  },
  {
   "cell_type": "code",
   "execution_count": 36,
   "id": "c8d1500f",
   "metadata": {},
   "outputs": [
    {
     "name": "stdout",
     "output_type": "stream",
     "text": [
      "El valor total de las ventas durante la primera semana fue de: 2208500 COP\n"
     ]
    }
   ],
   "source": [
    "print(f'El valor total de las ventas durante la primera semana fue de: {total_semana} COP' )"
   ]
  }
 ],
 "metadata": {
  "kernelspec": {
   "display_name": "Python 3 (ipykernel)",
   "language": "python",
   "name": "python3"
  },
  "language_info": {
   "codemirror_mode": {
    "name": "ipython",
    "version": 3
   },
   "file_extension": ".py",
   "mimetype": "text/x-python",
   "name": "python",
   "nbconvert_exporter": "python",
   "pygments_lexer": "ipython3",
   "version": "3.9.12"
  }
 },
 "nbformat": 4,
 "nbformat_minor": 5
}
